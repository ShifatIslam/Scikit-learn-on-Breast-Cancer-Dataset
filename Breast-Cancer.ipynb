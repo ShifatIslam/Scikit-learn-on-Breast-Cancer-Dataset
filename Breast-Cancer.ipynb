{
  "nbformat": 4,
  "nbformat_minor": 0,
  "metadata": {
    "colab": {
      "name": "Untitled2.ipynb",
      "provenance": []
    },
    "kernelspec": {
      "name": "python3",
      "display_name": "Python 3"
    }
  },
  "cells": [
    {
      "cell_type": "code",
      "metadata": {
        "colab": {
          "base_uri": "https://localhost:8080/"
        },
        "id": "agG7mk9_zLJk",
        "outputId": "946c2cae-021a-492d-b112-f8637a232c02"
      },
      "source": [
        "import pandas as pd\n",
        "from sklearn import preprocessing\n",
        "from sklearn.model_selection import train_test_split\n",
        "from sklearn.preprocessing import StandardScaler\n",
        "from sklearn.neural_network import MLPClassifier\n",
        "from sklearn.metrics import confusion_matrix, classification_report\n",
        "from sklearn.neighbors import KNeighborsClassifier\n",
        "from sklearn.naive_bayes import GaussianNB\n",
        "from sklearn.tree import DecisionTreeClassifier\n",
        "\n",
        "# Location of dataset\n",
        "url = \"https://archive.ics.uci.edu/ml/machine-learning-databases/breast-cancer/breast-cancer.data\"\n",
        "\n",
        "\n",
        "# Assign colum names to the dataset\n",
        "names = ['Class', 'age', 'menopause', 'tumor-size', 'inv-nodes','node-caps','deg-malig','breast','breast-quad','irradiat']\n",
        "\n",
        "# Read dataset to pandas dataframe\n",
        "cancerdata = pd.read_csv(url, names=names)\n",
        "\n",
        "\n",
        "X = cancerdata.iloc[:, 1:10]\n",
        "y = cancerdata.iloc[:, :1]\n",
        "\n",
        "le = preprocessing.LabelEncoder()\n",
        "y=y.apply(le.fit_transform)\n",
        "X=X.apply(le.fit_transform)\n",
        "X_train, X_test, y_train, y_test = train_test_split(X,y, test_size=0.30)\n",
        "\n",
        "#scale data for uniform evaluation\n",
        "scaler = StandardScaler()\n",
        "X_train = scaler.fit_transform(X_train)\n",
        "X_test = scaler.transform(X_test)\n",
        "\n",
        "#Neural-Network\n",
        "print(\"Neural-Network: \")\n",
        "\n",
        "mlp = MLPClassifier(hidden_layer_sizes=(20,20,20), max_iter=1000)\n",
        "mlp.fit(X_train,y_train.values.ravel())\n",
        "\n",
        "predictions = mlp.predict(X_test)\n",
        "\n",
        "print(confusion_matrix(y_test, predictions))\n",
        "print(classification_report(y_test,predictions))\n",
        "\n",
        "#KNN\n",
        "print(\"KNN: \")\n",
        "\n",
        "knn = KNeighborsClassifier(n_neighbors=5)\n",
        "knn.fit(X_train,y_train.values.ravel())\n",
        "\n",
        "predictions = knn.predict(X_test)\n",
        "\n",
        "print(confusion_matrix(y_test, predictions))\n",
        "print(classification_report(y_test,predictions))\n",
        "\n",
        "#Naive-Bayesian\n",
        "print(\"Naive-Bayesian: \")\n",
        "\n",
        "naive_bayes = GaussianNB();\n",
        "naive_bayes.fit(X_train,y_train.values.ravel())\n",
        "\n",
        "naive_bayes.predict(X_test)\n",
        "\n",
        "print(confusion_matrix(y_test, predictions))\n",
        "print(classification_report(y_test,predictions))\n",
        "\n",
        "\n",
        "#Decision Tree\n",
        "print(\"Decision Tree: \")\n",
        "\n",
        "decision_tree = DecisionTreeClassifier(criterion=\"entropy\", max_depth=3);\n",
        "decision_tree.fit(X_train,y_train.values.ravel())\n",
        "\n",
        "decision_tree.predict(X_test)\n",
        "\n",
        "print(confusion_matrix(y_test, predictions))\n",
        "print(classification_report(y_test,predictions))\n"
      ],
      "execution_count": 2,
      "outputs": [
        {
          "output_type": "stream",
          "text": [
            "Neural-Network: \n",
            "[[41 16]\n",
            " [11 18]]\n",
            "              precision    recall  f1-score   support\n",
            "\n",
            "           0       0.79      0.72      0.75        57\n",
            "           1       0.53      0.62      0.57        29\n",
            "\n",
            "    accuracy                           0.69        86\n",
            "   macro avg       0.66      0.67      0.66        86\n",
            "weighted avg       0.70      0.69      0.69        86\n",
            "\n",
            "KNN: \n",
            "[[54  3]\n",
            " [17 12]]\n",
            "              precision    recall  f1-score   support\n",
            "\n",
            "           0       0.76      0.95      0.84        57\n",
            "           1       0.80      0.41      0.55        29\n",
            "\n",
            "    accuracy                           0.77        86\n",
            "   macro avg       0.78      0.68      0.69        86\n",
            "weighted avg       0.77      0.77      0.74        86\n",
            "\n",
            "Naive-Bayesian: \n",
            "[[54  3]\n",
            " [17 12]]\n",
            "              precision    recall  f1-score   support\n",
            "\n",
            "           0       0.76      0.95      0.84        57\n",
            "           1       0.80      0.41      0.55        29\n",
            "\n",
            "    accuracy                           0.77        86\n",
            "   macro avg       0.78      0.68      0.69        86\n",
            "weighted avg       0.77      0.77      0.74        86\n",
            "\n",
            "Decision Tree: \n",
            "[[54  3]\n",
            " [17 12]]\n",
            "              precision    recall  f1-score   support\n",
            "\n",
            "           0       0.76      0.95      0.84        57\n",
            "           1       0.80      0.41      0.55        29\n",
            "\n",
            "    accuracy                           0.77        86\n",
            "   macro avg       0.78      0.68      0.69        86\n",
            "weighted avg       0.77      0.77      0.74        86\n",
            "\n"
          ],
          "name": "stdout"
        }
      ]
    },
    {
      "cell_type": "code",
      "metadata": {
        "id": "eZ8aa76p-uW2"
      },
      "source": [
        "import pandas as pd\n",
        "from sklearn import preprocessing\n",
        "from sklearn.neural_network import MLPClassifier\n",
        "from sklearn.metrics import confusion_matrix, classification_report\n",
        "from sklearn.neighbors import KNeighborsClassifier\n",
        "from sklearn.naive_bayes import GaussianNB\n",
        "from sklearn.tree import DecisionTreeClassifier\n",
        "\n",
        "# Location of dataset\n",
        "url = \"https://archive.ics.uci.edu/ml/machine-learning-databases/breast-cancer/breast-cancer.data\"\n",
        "\n",
        "\n",
        "# Assign colum names to the dataset\n",
        "col_names = ['Class', 'age', 'menopause', 'tumor-size', 'inv-nodes','node-caps','deg-malig','breast','breast-quad','irradiat']\n",
        "\n",
        "# Read dataset to pandas dataframe\n",
        "cancerdata = pd.read_csv(url,names=col_names)\n",
        "cancerdata.head()\n"
      ],
      "execution_count": null,
      "outputs": []
    },
    {
      "cell_type": "code",
      "metadata": {
        "id": "LDhlnMPQARob"
      },
      "source": [
        "X = cancerdata.iloc[:,1:10].values\n",
        "Y = cancerdata.iloc[:,0].values"
      ],
      "execution_count": null,
      "outputs": []
    },
    {
      "cell_type": "code",
      "metadata": {
        "id": "Zqc5vZsmAcwd"
      },
      "source": [
        "from sklearn.model_selection import train_test_split\n",
        "X_train,X_test,Y_train,Y_test= train_test_split(X,Y,test_size= 0.25 , random_state =0)"
      ],
      "execution_count": null,
      "outputs": []
    },
    {
      "cell_type": "code",
      "metadata": {
        "id": "yrTuyCpSARnq"
      },
      "source": [
        "from sklearn.preprocessing import StandardScaler\n",
        "sc = StandardScaler()\n",
        "X_train = sc.fit_transform(X_train)\n",
        "X_test = sc.fit_transform(X_test)\n",
        "\n",
        "X_train"
      ],
      "execution_count": null,
      "outputs": []
    }
  ]
}